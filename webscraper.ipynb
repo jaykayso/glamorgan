{
 "cells": [
  {
   "cell_type": "markdown",
   "metadata": {},
   "source": [
    "# Financial Statement Web Scraper"
   ]
  },
  {
   "cell_type": "markdown",
   "metadata": {},
   "source": [
    "The goal of this project is to create a web scraper that effectively processes financial statements that are publicly available. Instructions have been taken from https://towardsdatascience.com/web-scraping-for-accounting-analysis-using-python-part-1-b5fc016a1c9a to make this project possible."
   ]
  },
  {
   "cell_type": "markdown",
   "metadata": {},
   "source": [
    "### Getting Financial Statements with Yahoo Finance"
   ]
  },
  {
   "cell_type": "markdown",
   "metadata": {},
   "source": [
    "### Importing Libraries"
   ]
  },
  {
   "cell_type": "code",
   "execution_count": 30,
   "metadata": {},
   "outputs": [],
   "source": [
    "import pandas as pd\n",
    "from bs4 import BeautifulSoup\n",
    "import urllib.request as ur"
   ]
  },
  {
   "cell_type": "markdown",
   "metadata": {},
   "source": [
    "### Processing"
   ]
  },
  {
   "cell_type": "markdown",
   "metadata": {},
   "source": [
    "A simple trick cited by the source URL: Adjust the stock symbol and plug it into the URL link. This is convenient when pulling statements in bulk. Here we are going to put in the holdings listed from a local hedge fund's 13F which is public information. "
   ]
  },
  {
   "cell_type": "code",
   "execution_count": 31,
   "metadata": {},
   "outputs": [],
   "source": [
    "# Enter a stock symbol\n",
    "index= \"MSFT\"\n",
    "# URL link \n",
    "url_is = \"https://finance.yahoo.com/quote/\" + index + \"/financials?p=\" + index\n",
    "url_bs = \"https://finance.yahoo.com/quote/\" + index + \"/balance-sheet?p=\" + index\n",
    "url_cf = \"https://finance.yahoo.com/quote/\" + index + \"/cash-flow?p=\" + index"
   ]
  },
  {
   "cell_type": "code",
   "execution_count": 34,
   "metadata": {
    "scrolled": true
   },
   "outputs": [
    {
     "name": "stdout",
     "output_type": "stream",
     "text": [
      "https://finance.yahoo.com/quote/MSFT/balance-sheet?p=MSFT\n"
     ]
    }
   ],
   "source": [
    "print(url_bs)"
   ]
  },
  {
   "cell_type": "code",
   "execution_count": 35,
   "metadata": {},
   "outputs": [
    {
     "data": {
      "text/plain": [
       "'https://finance.yahoo.com/quote/MSFT/balance-sheet?p=MSFT'"
      ]
     },
     "execution_count": 35,
     "metadata": {},
     "output_type": "execute_result"
    }
   ],
   "source": [
    "url_bs"
   ]
  },
  {
   "cell_type": "markdown",
   "metadata": {},
   "source": [
    "### Read the URL into an lxml File"
   ]
  },
  {
   "cell_type": "code",
   "execution_count": 39,
   "metadata": {},
   "outputs": [
    {
     "ename": "HTTPError",
     "evalue": "HTTP Error 404: Not Found",
     "output_type": "error",
     "traceback": [
      "\u001b[0;31m---------------------------------------------------------------------------\u001b[0m",
      "\u001b[0;31mHTTPError\u001b[0m                                 Traceback (most recent call last)",
      "\u001b[0;32m<ipython-input-39-02b414542ae2>\u001b[0m in \u001b[0;36m<module>\u001b[0;34m()\u001b[0m\n\u001b[0;32m----> 1\u001b[0;31m \u001b[0mread_data\u001b[0m \u001b[0;34m=\u001b[0m \u001b[0mur\u001b[0m\u001b[0;34m.\u001b[0m\u001b[0murlopen\u001b[0m\u001b[0;34m(\u001b[0m\u001b[0murl_bs\u001b[0m\u001b[0;34m)\u001b[0m\u001b[0;34m.\u001b[0m\u001b[0mread\u001b[0m\u001b[0;34m(\u001b[0m\u001b[0;34m)\u001b[0m\u001b[0;34m\u001b[0m\u001b[0;34m\u001b[0m\u001b[0m\n\u001b[0m\u001b[1;32m      2\u001b[0m \u001b[0;31m#soup_is= BeautifulSoup(read_data,'lxml')\u001b[0m\u001b[0;34m\u001b[0m\u001b[0;34m\u001b[0m\u001b[0;34m\u001b[0m\u001b[0m\n",
      "\u001b[0;32m/Users/jaklynsoler/opt/anaconda3/envs/learn-env/lib/python3.6/urllib/request.py\u001b[0m in \u001b[0;36murlopen\u001b[0;34m(url, data, timeout, cafile, capath, cadefault, context)\u001b[0m\n\u001b[1;32m    221\u001b[0m     \u001b[0;32melse\u001b[0m\u001b[0;34m:\u001b[0m\u001b[0;34m\u001b[0m\u001b[0;34m\u001b[0m\u001b[0m\n\u001b[1;32m    222\u001b[0m         \u001b[0mopener\u001b[0m \u001b[0;34m=\u001b[0m \u001b[0m_opener\u001b[0m\u001b[0;34m\u001b[0m\u001b[0;34m\u001b[0m\u001b[0m\n\u001b[0;32m--> 223\u001b[0;31m     \u001b[0;32mreturn\u001b[0m \u001b[0mopener\u001b[0m\u001b[0;34m.\u001b[0m\u001b[0mopen\u001b[0m\u001b[0;34m(\u001b[0m\u001b[0murl\u001b[0m\u001b[0;34m,\u001b[0m \u001b[0mdata\u001b[0m\u001b[0;34m,\u001b[0m \u001b[0mtimeout\u001b[0m\u001b[0;34m)\u001b[0m\u001b[0;34m\u001b[0m\u001b[0;34m\u001b[0m\u001b[0m\n\u001b[0m\u001b[1;32m    224\u001b[0m \u001b[0;34m\u001b[0m\u001b[0m\n\u001b[1;32m    225\u001b[0m \u001b[0;32mdef\u001b[0m \u001b[0minstall_opener\u001b[0m\u001b[0;34m(\u001b[0m\u001b[0mopener\u001b[0m\u001b[0;34m)\u001b[0m\u001b[0;34m:\u001b[0m\u001b[0;34m\u001b[0m\u001b[0;34m\u001b[0m\u001b[0m\n",
      "\u001b[0;32m/Users/jaklynsoler/opt/anaconda3/envs/learn-env/lib/python3.6/urllib/request.py\u001b[0m in \u001b[0;36mopen\u001b[0;34m(self, fullurl, data, timeout)\u001b[0m\n\u001b[1;32m    530\u001b[0m         \u001b[0;32mfor\u001b[0m \u001b[0mprocessor\u001b[0m \u001b[0;32min\u001b[0m \u001b[0mself\u001b[0m\u001b[0;34m.\u001b[0m\u001b[0mprocess_response\u001b[0m\u001b[0;34m.\u001b[0m\u001b[0mget\u001b[0m\u001b[0;34m(\u001b[0m\u001b[0mprotocol\u001b[0m\u001b[0;34m,\u001b[0m \u001b[0;34m[\u001b[0m\u001b[0;34m]\u001b[0m\u001b[0;34m)\u001b[0m\u001b[0;34m:\u001b[0m\u001b[0;34m\u001b[0m\u001b[0;34m\u001b[0m\u001b[0m\n\u001b[1;32m    531\u001b[0m             \u001b[0mmeth\u001b[0m \u001b[0;34m=\u001b[0m \u001b[0mgetattr\u001b[0m\u001b[0;34m(\u001b[0m\u001b[0mprocessor\u001b[0m\u001b[0;34m,\u001b[0m \u001b[0mmeth_name\u001b[0m\u001b[0;34m)\u001b[0m\u001b[0;34m\u001b[0m\u001b[0;34m\u001b[0m\u001b[0m\n\u001b[0;32m--> 532\u001b[0;31m             \u001b[0mresponse\u001b[0m \u001b[0;34m=\u001b[0m \u001b[0mmeth\u001b[0m\u001b[0;34m(\u001b[0m\u001b[0mreq\u001b[0m\u001b[0;34m,\u001b[0m \u001b[0mresponse\u001b[0m\u001b[0;34m)\u001b[0m\u001b[0;34m\u001b[0m\u001b[0;34m\u001b[0m\u001b[0m\n\u001b[0m\u001b[1;32m    533\u001b[0m \u001b[0;34m\u001b[0m\u001b[0m\n\u001b[1;32m    534\u001b[0m         \u001b[0;32mreturn\u001b[0m \u001b[0mresponse\u001b[0m\u001b[0;34m\u001b[0m\u001b[0;34m\u001b[0m\u001b[0m\n",
      "\u001b[0;32m/Users/jaklynsoler/opt/anaconda3/envs/learn-env/lib/python3.6/urllib/request.py\u001b[0m in \u001b[0;36mhttp_response\u001b[0;34m(self, request, response)\u001b[0m\n\u001b[1;32m    640\u001b[0m         \u001b[0;32mif\u001b[0m \u001b[0;32mnot\u001b[0m \u001b[0;34m(\u001b[0m\u001b[0;36m200\u001b[0m \u001b[0;34m<=\u001b[0m \u001b[0mcode\u001b[0m \u001b[0;34m<\u001b[0m \u001b[0;36m300\u001b[0m\u001b[0;34m)\u001b[0m\u001b[0;34m:\u001b[0m\u001b[0;34m\u001b[0m\u001b[0;34m\u001b[0m\u001b[0m\n\u001b[1;32m    641\u001b[0m             response = self.parent.error(\n\u001b[0;32m--> 642\u001b[0;31m                 'http', request, response, code, msg, hdrs)\n\u001b[0m\u001b[1;32m    643\u001b[0m \u001b[0;34m\u001b[0m\u001b[0m\n\u001b[1;32m    644\u001b[0m         \u001b[0;32mreturn\u001b[0m \u001b[0mresponse\u001b[0m\u001b[0;34m\u001b[0m\u001b[0;34m\u001b[0m\u001b[0m\n",
      "\u001b[0;32m/Users/jaklynsoler/opt/anaconda3/envs/learn-env/lib/python3.6/urllib/request.py\u001b[0m in \u001b[0;36merror\u001b[0;34m(self, proto, *args)\u001b[0m\n\u001b[1;32m    568\u001b[0m         \u001b[0;32mif\u001b[0m \u001b[0mhttp_err\u001b[0m\u001b[0;34m:\u001b[0m\u001b[0;34m\u001b[0m\u001b[0;34m\u001b[0m\u001b[0m\n\u001b[1;32m    569\u001b[0m             \u001b[0margs\u001b[0m \u001b[0;34m=\u001b[0m \u001b[0;34m(\u001b[0m\u001b[0mdict\u001b[0m\u001b[0;34m,\u001b[0m \u001b[0;34m'default'\u001b[0m\u001b[0;34m,\u001b[0m \u001b[0;34m'http_error_default'\u001b[0m\u001b[0;34m)\u001b[0m \u001b[0;34m+\u001b[0m \u001b[0morig_args\u001b[0m\u001b[0;34m\u001b[0m\u001b[0;34m\u001b[0m\u001b[0m\n\u001b[0;32m--> 570\u001b[0;31m             \u001b[0;32mreturn\u001b[0m \u001b[0mself\u001b[0m\u001b[0;34m.\u001b[0m\u001b[0m_call_chain\u001b[0m\u001b[0;34m(\u001b[0m\u001b[0;34m*\u001b[0m\u001b[0margs\u001b[0m\u001b[0;34m)\u001b[0m\u001b[0;34m\u001b[0m\u001b[0;34m\u001b[0m\u001b[0m\n\u001b[0m\u001b[1;32m    571\u001b[0m \u001b[0;34m\u001b[0m\u001b[0m\n\u001b[1;32m    572\u001b[0m \u001b[0;31m# XXX probably also want an abstract factory that knows when it makes\u001b[0m\u001b[0;34m\u001b[0m\u001b[0;34m\u001b[0m\u001b[0;34m\u001b[0m\u001b[0m\n",
      "\u001b[0;32m/Users/jaklynsoler/opt/anaconda3/envs/learn-env/lib/python3.6/urllib/request.py\u001b[0m in \u001b[0;36m_call_chain\u001b[0;34m(self, chain, kind, meth_name, *args)\u001b[0m\n\u001b[1;32m    502\u001b[0m         \u001b[0;32mfor\u001b[0m \u001b[0mhandler\u001b[0m \u001b[0;32min\u001b[0m \u001b[0mhandlers\u001b[0m\u001b[0;34m:\u001b[0m\u001b[0;34m\u001b[0m\u001b[0;34m\u001b[0m\u001b[0m\n\u001b[1;32m    503\u001b[0m             \u001b[0mfunc\u001b[0m \u001b[0;34m=\u001b[0m \u001b[0mgetattr\u001b[0m\u001b[0;34m(\u001b[0m\u001b[0mhandler\u001b[0m\u001b[0;34m,\u001b[0m \u001b[0mmeth_name\u001b[0m\u001b[0;34m)\u001b[0m\u001b[0;34m\u001b[0m\u001b[0;34m\u001b[0m\u001b[0m\n\u001b[0;32m--> 504\u001b[0;31m             \u001b[0mresult\u001b[0m \u001b[0;34m=\u001b[0m \u001b[0mfunc\u001b[0m\u001b[0;34m(\u001b[0m\u001b[0;34m*\u001b[0m\u001b[0margs\u001b[0m\u001b[0;34m)\u001b[0m\u001b[0;34m\u001b[0m\u001b[0;34m\u001b[0m\u001b[0m\n\u001b[0m\u001b[1;32m    505\u001b[0m             \u001b[0;32mif\u001b[0m \u001b[0mresult\u001b[0m \u001b[0;32mis\u001b[0m \u001b[0;32mnot\u001b[0m \u001b[0;32mNone\u001b[0m\u001b[0;34m:\u001b[0m\u001b[0;34m\u001b[0m\u001b[0;34m\u001b[0m\u001b[0m\n\u001b[1;32m    506\u001b[0m                 \u001b[0;32mreturn\u001b[0m \u001b[0mresult\u001b[0m\u001b[0;34m\u001b[0m\u001b[0;34m\u001b[0m\u001b[0m\n",
      "\u001b[0;32m/Users/jaklynsoler/opt/anaconda3/envs/learn-env/lib/python3.6/urllib/request.py\u001b[0m in \u001b[0;36mhttp_error_default\u001b[0;34m(self, req, fp, code, msg, hdrs)\u001b[0m\n\u001b[1;32m    648\u001b[0m \u001b[0;32mclass\u001b[0m \u001b[0mHTTPDefaultErrorHandler\u001b[0m\u001b[0;34m(\u001b[0m\u001b[0mBaseHandler\u001b[0m\u001b[0;34m)\u001b[0m\u001b[0;34m:\u001b[0m\u001b[0;34m\u001b[0m\u001b[0;34m\u001b[0m\u001b[0m\n\u001b[1;32m    649\u001b[0m     \u001b[0;32mdef\u001b[0m \u001b[0mhttp_error_default\u001b[0m\u001b[0;34m(\u001b[0m\u001b[0mself\u001b[0m\u001b[0;34m,\u001b[0m \u001b[0mreq\u001b[0m\u001b[0;34m,\u001b[0m \u001b[0mfp\u001b[0m\u001b[0;34m,\u001b[0m \u001b[0mcode\u001b[0m\u001b[0;34m,\u001b[0m \u001b[0mmsg\u001b[0m\u001b[0;34m,\u001b[0m \u001b[0mhdrs\u001b[0m\u001b[0;34m)\u001b[0m\u001b[0;34m:\u001b[0m\u001b[0;34m\u001b[0m\u001b[0;34m\u001b[0m\u001b[0m\n\u001b[0;32m--> 650\u001b[0;31m         \u001b[0;32mraise\u001b[0m \u001b[0mHTTPError\u001b[0m\u001b[0;34m(\u001b[0m\u001b[0mreq\u001b[0m\u001b[0;34m.\u001b[0m\u001b[0mfull_url\u001b[0m\u001b[0;34m,\u001b[0m \u001b[0mcode\u001b[0m\u001b[0;34m,\u001b[0m \u001b[0mmsg\u001b[0m\u001b[0;34m,\u001b[0m \u001b[0mhdrs\u001b[0m\u001b[0;34m,\u001b[0m \u001b[0mfp\u001b[0m\u001b[0;34m)\u001b[0m\u001b[0;34m\u001b[0m\u001b[0;34m\u001b[0m\u001b[0m\n\u001b[0m\u001b[1;32m    651\u001b[0m \u001b[0;34m\u001b[0m\u001b[0m\n\u001b[1;32m    652\u001b[0m \u001b[0;32mclass\u001b[0m \u001b[0mHTTPRedirectHandler\u001b[0m\u001b[0;34m(\u001b[0m\u001b[0mBaseHandler\u001b[0m\u001b[0;34m)\u001b[0m\u001b[0;34m:\u001b[0m\u001b[0;34m\u001b[0m\u001b[0;34m\u001b[0m\u001b[0m\n",
      "\u001b[0;31mHTTPError\u001b[0m: HTTP Error 404: Not Found"
     ]
    }
   ],
   "source": [
    "read_data = ur.urlopen(url_bs).read() \n",
    "soup_is= BeautifulSoup(read_data,'lxml')"
   ]
  },
  {
   "cell_type": "markdown",
   "metadata": {},
   "source": [
    "### Manipulate the Data"
   ]
  },
  {
   "cell_type": "code",
   "execution_count": null,
   "metadata": {},
   "outputs": [],
   "source": []
  },
  {
   "cell_type": "code",
   "execution_count": null,
   "metadata": {},
   "outputs": [],
   "source": [
    "# Enter a stock symbol\n",
    "index= \"BXC\"\n",
    "# URL link \n",
    "url_is = \"https://finance.yahoo.com/quote/\" + index + \"/financials?p=\" + index\n",
    "url_bs = \"https://finance.yahoo.com/quote/\" + index + \"/balance-sheet?p=\" + index\n",
    "url_cf = \"https://finance.yahoo.com/quote/\" + index + \"/cash-flow?p=\" + index"
   ]
  },
  {
   "cell_type": "code",
   "execution_count": null,
   "metadata": {},
   "outputs": [],
   "source": [
    "read_data = ur.urlopen(url_is).read() \n",
    "soup_is= BeautifulSoup(read_data,’lxml’)"
   ]
  },
  {
   "cell_type": "code",
   "execution_count": 6,
   "metadata": {},
   "outputs": [],
   "source": [
    "# Enter a stock symbol\n",
    "index= \"EXTR\"\n",
    "# URL link \n",
    "url_is = \"https://finance.yahoo.com/quote/\" + index + \"/financials?p=\" + index\n",
    "url_bs = \"https://finance.yahoo.com/quote/\" + index + \"/balance-sheet?p=\" + index\n",
    "url_cf = \"https://finance.yahoo.com/quote/\" + index + \"/cash-flow?p=\" + index"
   ]
  },
  {
   "cell_type": "code",
   "execution_count": null,
   "metadata": {},
   "outputs": [],
   "source": [
    "# Enter a stock symbol\n",
    "index= \"SWIR\"\n",
    "# URL link \n",
    "url_is = \"https://finance.yahoo.com/quote/\" + index + \"/financials?p=\" + index\n",
    "url_bs = \"https://finance.yahoo.com/quote/\" + index + \"/balance-sheet?p=\" + index\n",
    "url_cf = \"https://finance.yahoo.com/quote/\" + index + \"/cash-flow?p=\" + index"
   ]
  },
  {
   "cell_type": "code",
   "execution_count": null,
   "metadata": {},
   "outputs": [],
   "source": [
    "# Enter a stock symbol\n",
    "index= \"IMXI\"\n",
    "# URL link \n",
    "url_is = \"https://finance.yahoo.com/quote/\" + index + \"/financials?p=\" + index\n",
    "url_bs = \"https://finance.yahoo.com/quote/\" + index + \"/balance-sheet?p=\" + index\n",
    "url_cf = \"https://finance.yahoo.com/quote/\" + index + \"/cash-flow?p=\" + index"
   ]
  },
  {
   "cell_type": "code",
   "execution_count": null,
   "metadata": {},
   "outputs": [],
   "source": [
    "# Enter a stock symbol\n",
    "index= \"BSIG\"\n",
    "# URL link \n",
    "url_is = \"https://finance.yahoo.com/quote/\" + index + \"/financials?p=\" + index\n",
    "url_bs = \"https://finance.yahoo.com/quote/\" + index + \"/balance-sheet?p=\" + index\n",
    "url_cf = \"https://finance.yahoo.com/quote/\" + index + \"/cash-flow?p=\" + index"
   ]
  },
  {
   "cell_type": "code",
   "execution_count": null,
   "metadata": {},
   "outputs": [],
   "source": [
    "# Enter a stock symbol\n",
    "index= \"LEGH\"\n",
    "# URL link \n",
    "url_is = \"https://finance.yahoo.com/quote/\" + index + \"/financials?p=\" + index\n",
    "url_bs = \"https://finance.yahoo.com/quote/\" + index + \"/balance-sheet?p=\" + index\n",
    "url_cf = \"https://finance.yahoo.com/quote/\" + index + \"/cash-flow?p=\" + index"
   ]
  },
  {
   "cell_type": "code",
   "execution_count": null,
   "metadata": {},
   "outputs": [],
   "source": [
    "# Enter a stock symbol\n",
    "index= \"PFSW\"\n",
    "# URL link \n",
    "url_is = \"https://finance.yahoo.com/quote/\" + index + \"/financials?p=\" + index\n",
    "url_bs = \"https://finance.yahoo.com/quote/\" + index + \"/balance-sheet?p=\" + index\n",
    "url_cf = \"https://finance.yahoo.com/quote/\" + index + \"/cash-flow?p=\" + index"
   ]
  },
  {
   "cell_type": "code",
   "execution_count": null,
   "metadata": {},
   "outputs": [],
   "source": [
    "# Enter a stock symbol\n",
    "index= \"ASO\"\n",
    "# URL link \n",
    "url_is = \"https://finance.yahoo.com/quote/\" + index + \"/financials?p=\" + index\n",
    "url_bs = \"https://finance.yahoo.com/quote/\" + index + \"/balance-sheet?p=\" + index\n",
    "url_cf = \"https://finance.yahoo.com/quote/\" + index + \"/cash-flow?p=\" + index"
   ]
  },
  {
   "cell_type": "code",
   "execution_count": null,
   "metadata": {},
   "outputs": [],
   "source": [
    "# Enter a stock symbol\n",
    "index= \"ALTG\"\n",
    "# URL link \n",
    "url_is = \"https://finance.yahoo.com/quote/\" + index + \"/financials?p=\" + index\n",
    "url_bs = \"https://finance.yahoo.com/quote/\" + index + \"/balance-sheet?p=\" + index\n",
    "url_cf = \"https://finance.yahoo.com/quote/\" + index + \"/cash-flow?p=\" + index"
   ]
  },
  {
   "cell_type": "code",
   "execution_count": null,
   "metadata": {},
   "outputs": [],
   "source": [
    "# Enter a stock symbol\n",
    "index= \"CNR\"\n",
    "# URL link \n",
    "url_is = \"https://finance.yahoo.com/quote/\" + index + \"/financials?p=\" + index\n",
    "url_bs = \"https://finance.yahoo.com/quote/\" + index + \"/balance-sheet?p=\" + index\n",
    "url_cf = \"https://finance.yahoo.com/quote/\" + index + \"/cash-flow?p=\" + index"
   ]
  },
  {
   "cell_type": "code",
   "execution_count": null,
   "metadata": {},
   "outputs": [],
   "source": [
    "# Enter a stock symbol\n",
    "index= \"RMNI\"\n",
    "# URL link \n",
    "url_is = \"https://finance.yahoo.com/quote/\" + index + \"/financials?p=\" + index\n",
    "url_bs = \"https://finance.yahoo.com/quote/\" + index + \"/balance-sheet?p=\" + index\n",
    "url_cf = \"https://finance.yahoo.com/quote/\" + index + \"/cash-flow?p=\" + index"
   ]
  },
  {
   "cell_type": "code",
   "execution_count": null,
   "metadata": {},
   "outputs": [],
   "source": [
    "# Enter a stock symbol\n",
    "index= \"WSM\"\n",
    "# URL link \n",
    "url_is = \"https://finance.yahoo.com/quote/\" + index + \"/financials?p=\" + index\n",
    "url_bs = \"https://finance.yahoo.com/quote/\" + index + \"/balance-sheet?p=\" + index\n",
    "url_cf = \"https://finance.yahoo.com/quote/\" + index + \"/cash-flow?p=\" + index"
   ]
  },
  {
   "cell_type": "code",
   "execution_count": null,
   "metadata": {},
   "outputs": [],
   "source": [
    "# Enter a stock symbol\n",
    "index= \"KKR\"\n",
    "# URL link \n",
    "url_is = \"https://finance.yahoo.com/quote/\" + index + \"/financials?p=\" + index\n",
    "url_bs = \"https://finance.yahoo.com/quote/\" + index + \"/balance-sheet?p=\" + index\n",
    "url_cf = \"https://finance.yahoo.com/quote/\" + index + \"/cash-flow?p=\" + index"
   ]
  },
  {
   "cell_type": "code",
   "execution_count": null,
   "metadata": {},
   "outputs": [],
   "source": [
    "# Enter a stock symbol\n",
    "index= \"HBP\"\n",
    "# URL link \n",
    "url_is = \"https://finance.yahoo.com/quote/\" + index + \"/financials?p=\" + index\n",
    "url_bs = \"https://finance.yahoo.com/quote/\" + index + \"/balance-sheet?p=\" + index\n",
    "url_cf = \"https://finance.yahoo.com/quote/\" + index + \"/cash-flow?p=\" + index"
   ]
  },
  {
   "cell_type": "code",
   "execution_count": null,
   "metadata": {},
   "outputs": [],
   "source": [
    "# Enter a stock symbol\n",
    "index= \"LPX\"\n",
    "# URL link \n",
    "url_is = \"https://finance.yahoo.com/quote/\" + index + \"/financials?p=\" + index\n",
    "url_bs = \"https://finance.yahoo.com/quote/\" + index + \"/balance-sheet?p=\" + index\n",
    "url_cf = \"https://finance.yahoo.com/quote/\" + index + \"/cash-flow?p=\" + index"
   ]
  },
  {
   "cell_type": "code",
   "execution_count": null,
   "metadata": {},
   "outputs": [],
   "source": [
    "# Enter a stock symbol\n",
    "index= \"BX\"\n",
    "# URL link \n",
    "url_is = \"https://finance.yahoo.com/quote/\" + index + \"/financials?p=\" + index\n",
    "url_bs = \"https://finance.yahoo.com/quote/\" + index + \"/balance-sheet?p=\" + index\n",
    "url_cf = \"https://finance.yahoo.com/quote/\" + index + \"/cash-flow?p=\" + index"
   ]
  },
  {
   "cell_type": "code",
   "execution_count": null,
   "metadata": {},
   "outputs": [],
   "source": [
    "# Enter a stock symbol\n",
    "index= \"AVYA\"\n",
    "# URL link \n",
    "url_is = \"https://finance.yahoo.com/quote/\" + index + \"/financials?p=\" + index\n",
    "url_bs = \"https://finance.yahoo.com/quote/\" + index + \"/balance-sheet?p=\" + index\n",
    "url_cf = \"https://finance.yahoo.com/quote/\" + index + \"/cash-flow?p=\" + index"
   ]
  },
  {
   "cell_type": "code",
   "execution_count": null,
   "metadata": {},
   "outputs": [],
   "source": [
    "# Enter a stock symbol\n",
    "index= \"CCS\"\n",
    "# URL link \n",
    "url_is = \"https://finance.yahoo.com/quote/\" + index + \"/financials?p=\" + index\n",
    "url_bs = \"https://finance.yahoo.com/quote/\" + index + \"/balance-sheet?p=\" + index\n",
    "url_cf = \"https://finance.yahoo.com/quote/\" + index + \"/cash-flow?p=\" + index"
   ]
  },
  {
   "cell_type": "code",
   "execution_count": null,
   "metadata": {},
   "outputs": [],
   "source": [
    "# Enter a stock symbol\n",
    "index= \"EQT\"\n",
    "# URL link \n",
    "url_is = \"https://finance.yahoo.com/quote/\" + index + \"/financials?p=\" + index\n",
    "url_bs = \"https://finance.yahoo.com/quote/\" + index + \"/balance-sheet?p=\" + index\n",
    "url_cf = \"https://finance.yahoo.com/quote/\" + index + \"/cash-flow?p=\" + index"
   ]
  },
  {
   "cell_type": "code",
   "execution_count": null,
   "metadata": {},
   "outputs": [],
   "source": [
    "# Enter a stock symbol\n",
    "index= \"LSEA\"\n",
    "# URL link \n",
    "url_is = \"https://finance.yahoo.com/quote/\" + index + \"/financials?p=\" + index\n",
    "url_bs = \"https://finance.yahoo.com/quote/\" + index + \"/balance-sheet?p=\" + index\n",
    "url_cf = \"https://finance.yahoo.com/quote/\" + index + \"/cash-flow?p=\" + index"
   ]
  },
  {
   "cell_type": "code",
   "execution_count": null,
   "metadata": {},
   "outputs": [],
   "source": [
    "# Enter a stock symbol\n",
    "index= \"LGIH\"\n",
    "# URL link \n",
    "url_is = \"https://finance.yahoo.com/quote/\" + index + \"/financials?p=\" + index\n",
    "url_bs = \"https://finance.yahoo.com/quote/\" + index + \"/balance-sheet?p=\" + index\n",
    "url_cf = \"https://finance.yahoo.com/quote/\" + index + \"/cash-flow?p=\" + index"
   ]
  },
  {
   "cell_type": "code",
   "execution_count": null,
   "metadata": {},
   "outputs": [],
   "source": [
    "# Enter a stock symbol\n",
    "index= \"COOP\"\n",
    "# URL link \n",
    "url_is = \"https://finance.yahoo.com/quote/\" + index + \"/financials?p=\" + index\n",
    "url_bs = \"https://finance.yahoo.com/quote/\" + index + \"/balance-sheet?p=\" + index\n",
    "url_cf = \"https://finance.yahoo.com/quote/\" + index + \"/cash-flow?p=\" + index"
   ]
  },
  {
   "cell_type": "code",
   "execution_count": null,
   "metadata": {},
   "outputs": [],
   "source": [
    "# Enter a stock symbol\n",
    "index= \"MATW\"\n",
    "# URL link \n",
    "url_is = \"https://finance.yahoo.com/quote/\" + index + \"/financials?p=\" + index\n",
    "url_bs = \"https://finance.yahoo.com/quote/\" + index + \"/balance-sheet?p=\" + index\n",
    "url_cf = \"https://finance.yahoo.com/quote/\" + index + \"/cash-flow?p=\" + index"
   ]
  },
  {
   "cell_type": "code",
   "execution_count": null,
   "metadata": {},
   "outputs": [],
   "source": [
    "# Enter a stock symbol\n",
    "index= \"MBIN\"\n",
    "# URL link \n",
    "url_is = \"https://finance.yahoo.com/quote/\" + index + \"/financials?p=\" + index\n",
    "url_bs = \"https://finance.yahoo.com/quote/\" + index + \"/balance-sheet?p=\" + index\n",
    "url_cf = \"https://finance.yahoo.com/quote/\" + index + \"/cash-flow?p=\" + index"
   ]
  },
  {
   "cell_type": "code",
   "execution_count": null,
   "metadata": {},
   "outputs": [],
   "source": [
    "# Enter a stock symbol\n",
    "index= \"AVID\"\n",
    "# URL link \n",
    "url_is = \"https://finance.yahoo.com/quote/\" + index + \"/financials?p=\" + index\n",
    "url_bs = \"https://finance.yahoo.com/quote/\" + index + \"/balance-sheet?p=\" + index\n",
    "url_cf = \"https://finance.yahoo.com/quote/\" + index + \"/cash-flow?p=\" + index"
   ]
  },
  {
   "cell_type": "code",
   "execution_count": null,
   "metadata": {},
   "outputs": [],
   "source": [
    "# Enter a stock symbol\n",
    "index= \"TIPT\"\n",
    "# URL link \n",
    "url_is = \"https://finance.yahoo.com/quote/\" + index + \"/financials?p=\" + index\n",
    "url_bs = \"https://finance.yahoo.com/quote/\" + index + \"/balance-sheet?p=\" + index\n",
    "url_cf = \"https://finance.yahoo.com/quote/\" + index + \"/cash-flow?p=\" + index"
   ]
  },
  {
   "cell_type": "code",
   "execution_count": null,
   "metadata": {},
   "outputs": [],
   "source": [
    "# Enter a stock symbol\n",
    "index= \"SDIG\"\n",
    "# URL link \n",
    "url_is = \"https://finance.yahoo.com/quote/\" + index + \"/financials?p=\" + index\n",
    "url_bs = \"https://finance.yahoo.com/quote/\" + index + \"/balance-sheet?p=\" + index\n",
    "url_cf = \"https://finance.yahoo.com/quote/\" + index + \"/cash-flow?p=\" + index"
   ]
  },
  {
   "cell_type": "code",
   "execution_count": null,
   "metadata": {},
   "outputs": [],
   "source": [
    "# Enter a stock symbol\n",
    "index= \"BLDR\"\n",
    "# URL link \n",
    "url_is = \"https://finance.yahoo.com/quote/\" + index + \"/financials?p=\" + index\n",
    "url_bs = \"https://finance.yahoo.com/quote/\" + index + \"/balance-sheet?p=\" + index\n",
    "url_cf = \"https://finance.yahoo.com/quote/\" + index + \"/cash-flow?p=\" + index"
   ]
  },
  {
   "cell_type": "code",
   "execution_count": null,
   "metadata": {},
   "outputs": [],
   "source": [
    "# Enter a stock symbol\n",
    "index= \"RILY\"\n",
    "# URL link \n",
    "url_is = \"https://finance.yahoo.com/quote/\" + index + \"/financials?p=\" + index\n",
    "url_bs = \"https://finance.yahoo.com/quote/\" + index + \"/balance-sheet?p=\" + index\n",
    "url_cf = \"https://finance.yahoo.com/quote/\" + index + \"/cash-flow?p=\" + index"
   ]
  },
  {
   "cell_type": "code",
   "execution_count": null,
   "metadata": {},
   "outputs": [],
   "source": [
    "# Enter a stock symbol\n",
    "index= \"PAR\"\n",
    "# URL link \n",
    "url_is = \"https://finance.yahoo.com/quote/\" + index + \"/financials?p=\" + index\n",
    "url_bs = \"https://finance.yahoo.com/quote/\" + index + \"/balance-sheet?p=\" + index\n",
    "url_cf = \"https://finance.yahoo.com/quote/\" + index + \"/cash-flow?p=\" + index"
   ]
  },
  {
   "cell_type": "code",
   "execution_count": null,
   "metadata": {},
   "outputs": [],
   "source": [
    "# Enter a stock symbol\n",
    "index= \"GREE\"\n",
    "# URL link \n",
    "url_is = \"https://finance.yahoo.com/quote/\" + index + \"/financials?p=\" + index\n",
    "url_bs = \"https://finance.yahoo.com/quote/\" + index + \"/balance-sheet?p=\" + index\n",
    "url_cf = \"https://finance.yahoo.com/quote/\" + index + \"/cash-flow?p=\" + index"
   ]
  },
  {
   "cell_type": "code",
   "execution_count": null,
   "metadata": {},
   "outputs": [],
   "source": [
    "# Enter a stock symbol\n",
    "index= \"APTO\"\n",
    "# URL link \n",
    "url_is = \"https://finance.yahoo.com/quote/\" + index + \"/financials?p=\" + index\n",
    "url_bs = \"https://finance.yahoo.com/quote/\" + index + \"/balance-sheet?p=\" + index\n",
    "url_cf = \"https://finance.yahoo.com/quote/\" + index + \"/cash-flow?p=\" + index"
   ]
  },
  {
   "cell_type": "code",
   "execution_count": null,
   "metadata": {},
   "outputs": [],
   "source": [
    "# Enter a stock symbol\n",
    "index= \"GOED.WS\"\n",
    "# URL link \n",
    "url_is = \"https://finance.yahoo.com/quote/\" + index + \"/financials?p=\" + index\n",
    "url_bs = \"https://finance.yahoo.com/quote/\" + index + \"/balance-sheet?p=\" + index\n",
    "url_cf = \"https://finance.yahoo.com/quote/\" + index + \"/cash-flow?p=\" + index"
   ]
  },
  {
   "cell_type": "code",
   "execution_count": null,
   "metadata": {},
   "outputs": [],
   "source": [
    "# Enter a stock symbol\n",
    "index= \"INAB\"\n",
    "# URL link \n",
    "url_is = \"https://finance.yahoo.com/quote/\" + index + \"/financials?p=\" + index\n",
    "url_bs = \"https://finance.yahoo.com/quote/\" + index + \"/balance-sheet?p=\" + index\n",
    "url_cf = \"https://finance.yahoo.com/quote/\" + index + \"/cash-flow?p=\" + index"
   ]
  },
  {
   "cell_type": "code",
   "execution_count": null,
   "metadata": {},
   "outputs": [],
   "source": [
    "# Enter a stock symbol\n",
    "index= \"CGTX\"\n",
    "# URL link \n",
    "url_is = \"https://finance.yahoo.com/quote/\" + index + \"/financials?p=\" + index\n",
    "url_bs = \"https://finance.yahoo.com/quote/\" + index + \"/balance-sheet?p=\" + index\n",
    "url_cf = \"https://finance.yahoo.com/quote/\" + index + \"/cash-flow?p=\" + index"
   ]
  },
  {
   "cell_type": "code",
   "execution_count": null,
   "metadata": {},
   "outputs": [],
   "source": [
    "# Enter a stock symbol\n",
    "index= \"MITK\"\n",
    "# URL link \n",
    "url_is = \"https://finance.yahoo.com/quote/\" + index + \"/financials?p=\" + index\n",
    "url_bs = \"https://finance.yahoo.com/quote/\" + index + \"/balance-sheet?p=\" + index\n",
    "url_cf = \"https://finance.yahoo.com/quote/\" + index + \"/cash-flow?p=\" + index"
   ]
  },
  {
   "cell_type": "code",
   "execution_count": null,
   "metadata": {},
   "outputs": [],
   "source": [
    "# Enter a stock symbol\n",
    "index= \"SMTS\"\n",
    "# URL link \n",
    "url_is = \"https://finance.yahoo.com/quote/\" + index + \"/financials?p=\" + index\n",
    "url_bs = \"https://finance.yahoo.com/quote/\" + index + \"/balance-sheet?p=\" + index\n",
    "url_cf = \"https://finance.yahoo.com/quote/\" + index + \"/cash-flow?p=\" + index"
   ]
  },
  {
   "cell_type": "code",
   "execution_count": null,
   "metadata": {},
   "outputs": [],
   "source": [
    "# Enter a stock symbol\n",
    "index= \"GOED\"\n",
    "# URL link \n",
    "url_is = \"https://finance.yahoo.com/quote/\" + index + \"/financials?p=\" + index\n",
    "url_bs = \"https://finance.yahoo.com/quote/\" + index + \"/balance-sheet?p=\" + index\n",
    "url_cf = \"https://finance.yahoo.com/quote/\" + index + \"/cash-flow?p=\" + index"
   ]
  },
  {
   "cell_type": "code",
   "execution_count": null,
   "metadata": {},
   "outputs": [],
   "source": []
  },
  {
   "cell_type": "code",
   "execution_count": null,
   "metadata": {},
   "outputs": [],
   "source": []
  }
 ],
 "metadata": {
  "kernelspec": {
   "display_name": "Python 3",
   "language": "python",
   "name": "python3"
  },
  "language_info": {
   "codemirror_mode": {
    "name": "ipython",
    "version": 3
   },
   "file_extension": ".py",
   "mimetype": "text/x-python",
   "name": "python",
   "nbconvert_exporter": "python",
   "pygments_lexer": "ipython3",
   "version": "3.6.9"
  },
  "toc": {
   "base_numbering": 1,
   "nav_menu": {},
   "number_sections": true,
   "sideBar": true,
   "skip_h1_title": false,
   "title_cell": "Table of Contents",
   "title_sidebar": "Contents",
   "toc_cell": false,
   "toc_position": {},
   "toc_section_display": true,
   "toc_window_display": false
  }
 },
 "nbformat": 4,
 "nbformat_minor": 4
}
