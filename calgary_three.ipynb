{
 "cells": [
  {
   "cell_type": "markdown",
   "metadata": {},
   "source": [
    "# Dwelling and Tenure Characteristics by Region"
   ]
  },
  {
   "cell_type": "code",
   "execution_count": 1,
   "metadata": {},
   "outputs": [],
   "source": [
    "import pandas as pd"
   ]
  },
  {
   "cell_type": "code",
   "execution_count": 2,
   "metadata": {},
   "outputs": [],
   "source": [
    "df = pd.read_csv('data/CC_Ward_Dwelling_Structure.csv')"
   ]
  },
  {
   "cell_type": "code",
   "execution_count": 3,
   "metadata": {
    "scrolled": false
   },
   "outputs": [
    {
     "data": {
      "text/html": [
       "<div>\n",
       "<style scoped>\n",
       "    .dataframe tbody tr th:only-of-type {\n",
       "        vertical-align: middle;\n",
       "    }\n",
       "\n",
       "    .dataframe tbody tr th {\n",
       "        vertical-align: top;\n",
       "    }\n",
       "\n",
       "    .dataframe thead th {\n",
       "        text-align: right;\n",
       "    }\n",
       "</style>\n",
       "<table border=\"1\" class=\"dataframe\">\n",
       "  <thead>\n",
       "    <tr style=\"text-align: right;\">\n",
       "      <th></th>\n",
       "      <th>CENSUS_YEAR</th>\n",
       "      <th>WARD</th>\n",
       "      <th>DWELLING_TYPE</th>\n",
       "      <th>DWELLING_TYPE_CODE</th>\n",
       "      <th>DWELLING_TYPE_DESCRIPTION</th>\n",
       "      <th>DWELLING_CNT</th>\n",
       "      <th>RESIDENT_CNT</th>\n",
       "      <th>OCPD_DWELLING_CNT</th>\n",
       "      <th>VACANT_DWELLING_CNT</th>\n",
       "      <th>OCPD_OWNERSHIP_CNT</th>\n",
       "      <th>RENOVATION_DWELLING_CNT</th>\n",
       "      <th>UNDER_CONST_DWELLING_CNT</th>\n",
       "      <th>INACTIVE_CNT</th>\n",
       "      <th>OTHER_PURPOSE_CNT</th>\n",
       "    </tr>\n",
       "  </thead>\n",
       "  <tbody>\n",
       "    <tr>\n",
       "      <th>0</th>\n",
       "      <td>2019</td>\n",
       "      <td>1</td>\n",
       "      <td>SINGLE FAMILY HOME</td>\n",
       "      <td>1</td>\n",
       "      <td>A structure originally designed and built to c...</td>\n",
       "      <td>23063</td>\n",
       "      <td>67008</td>\n",
       "      <td>22559</td>\n",
       "      <td>296</td>\n",
       "      <td>20319</td>\n",
       "      <td>59</td>\n",
       "      <td>122</td>\n",
       "      <td>7.0</td>\n",
       "      <td>20.0</td>\n",
       "    </tr>\n",
       "    <tr>\n",
       "      <th>1</th>\n",
       "      <td>2019</td>\n",
       "      <td>1</td>\n",
       "      <td>DUPLEX</td>\n",
       "      <td>2</td>\n",
       "      <td>A structure originally designed and built to c...</td>\n",
       "      <td>1959</td>\n",
       "      <td>4353</td>\n",
       "      <td>1855</td>\n",
       "      <td>60</td>\n",
       "      <td>1118</td>\n",
       "      <td>5</td>\n",
       "      <td>37</td>\n",
       "      <td>1.0</td>\n",
       "      <td>1.0</td>\n",
       "    </tr>\n",
       "    <tr>\n",
       "      <th>2</th>\n",
       "      <td>2019</td>\n",
       "      <td>1</td>\n",
       "      <td>MULTI-PLEX</td>\n",
       "      <td>3</td>\n",
       "      <td>A structure originally designed and built to c...</td>\n",
       "      <td>84</td>\n",
       "      <td>123</td>\n",
       "      <td>65</td>\n",
       "      <td>18</td>\n",
       "      <td>18</td>\n",
       "      <td>0</td>\n",
       "      <td>1</td>\n",
       "      <td>0.0</td>\n",
       "      <td>0.0</td>\n",
       "    </tr>\n",
       "    <tr>\n",
       "      <th>3</th>\n",
       "      <td>2019</td>\n",
       "      <td>1</td>\n",
       "      <td>APARTMENT</td>\n",
       "      <td>4</td>\n",
       "      <td>A structure originally designed and built to c...</td>\n",
       "      <td>4741</td>\n",
       "      <td>7344</td>\n",
       "      <td>4487</td>\n",
       "      <td>237</td>\n",
       "      <td>1714</td>\n",
       "      <td>8</td>\n",
       "      <td>1</td>\n",
       "      <td>3.0</td>\n",
       "      <td>5.0</td>\n",
       "    </tr>\n",
       "    <tr>\n",
       "      <th>4</th>\n",
       "      <td>2019</td>\n",
       "      <td>1</td>\n",
       "      <td>TOWN HOUSE</td>\n",
       "      <td>5</td>\n",
       "      <td>A structure originally designed and built to c...</td>\n",
       "      <td>3972</td>\n",
       "      <td>7832</td>\n",
       "      <td>3717</td>\n",
       "      <td>149</td>\n",
       "      <td>2090</td>\n",
       "      <td>11</td>\n",
       "      <td>89</td>\n",
       "      <td>6.0</td>\n",
       "      <td>0.0</td>\n",
       "    </tr>\n",
       "  </tbody>\n",
       "</table>\n",
       "</div>"
      ],
      "text/plain": [
       "   CENSUS_YEAR  WARD       DWELLING_TYPE  DWELLING_TYPE_CODE  \\\n",
       "0         2019     1  SINGLE FAMILY HOME                   1   \n",
       "1         2019     1              DUPLEX                   2   \n",
       "2         2019     1          MULTI-PLEX                   3   \n",
       "3         2019     1           APARTMENT                   4   \n",
       "4         2019     1          TOWN HOUSE                   5   \n",
       "\n",
       "                           DWELLING_TYPE_DESCRIPTION  DWELLING_CNT  \\\n",
       "0  A structure originally designed and built to c...         23063   \n",
       "1  A structure originally designed and built to c...          1959   \n",
       "2  A structure originally designed and built to c...            84   \n",
       "3  A structure originally designed and built to c...          4741   \n",
       "4  A structure originally designed and built to c...          3972   \n",
       "\n",
       "   RESIDENT_CNT  OCPD_DWELLING_CNT  VACANT_DWELLING_CNT  OCPD_OWNERSHIP_CNT  \\\n",
       "0         67008              22559                  296               20319   \n",
       "1          4353               1855                   60                1118   \n",
       "2           123                 65                   18                  18   \n",
       "3          7344               4487                  237                1714   \n",
       "4          7832               3717                  149                2090   \n",
       "\n",
       "   RENOVATION_DWELLING_CNT  UNDER_CONST_DWELLING_CNT  INACTIVE_CNT  \\\n",
       "0                       59                       122           7.0   \n",
       "1                        5                        37           1.0   \n",
       "2                        0                         1           0.0   \n",
       "3                        8                         1           3.0   \n",
       "4                       11                        89           6.0   \n",
       "\n",
       "   OTHER_PURPOSE_CNT  \n",
       "0               20.0  \n",
       "1                1.0  \n",
       "2                0.0  \n",
       "3                5.0  \n",
       "4                0.0  "
      ]
     },
     "execution_count": 3,
     "metadata": {},
     "output_type": "execute_result"
    }
   ],
   "source": [
    "df.head()"
   ]
  },
  {
   "cell_type": "code",
   "execution_count": 4,
   "metadata": {},
   "outputs": [],
   "source": [
    "df = df[df['CENSUS_YEAR'] == 2019]"
   ]
  },
  {
   "cell_type": "code",
   "execution_count": 5,
   "metadata": {},
   "outputs": [],
   "source": [
    "df_total = df.drop(columns = ['DWELLING_TYPE_DESCRIPTION', 'RESIDENT_CNT', 'DWELLING_TYPE_CODE', 'DWELLING_TYPE_DESCRIPTION', 'DWELLING_TYPE', 'OTHER_PURPOSE_CNT', 'INACTIVE_CNT'])"
   ]
  },
  {
   "cell_type": "code",
   "execution_count": 6,
   "metadata": {},
   "outputs": [],
   "source": [
    "df_total['RENO_AND_CONST'] = df_total.RENOVATION_DWELLING_CNT + df_total.UNDER_CONST_DWELLING_CNT"
   ]
  },
  {
   "cell_type": "code",
   "execution_count": 7,
   "metadata": {},
   "outputs": [],
   "source": [
    "df_total = df_total.drop(columns = ['RENOVATION_DWELLING_CNT', 'UNDER_CONST_DWELLING_CNT'])"
   ]
  },
  {
   "cell_type": "markdown",
   "metadata": {},
   "source": [
    "### Which Wards for Which Districts? "
   ]
  },
  {
   "cell_type": "markdown",
   "metadata": {},
   "source": [
    "- City Centre: Ward 7, Ward 8\n",
    "- East: Ward 9\n",
    "- West: Ward 6\n",
    "- North: Ward 2, Ward 3, Ward 4\n",
    "- North East: Ward 5, Ward 10\n",
    "- North West: Ward 1\n",
    "- South: Ward 11, Ward 13, Ward 14\n",
    "- South East: Ward 12"
   ]
  },
  {
   "cell_type": "markdown",
   "metadata": {},
   "source": [
    "### Sorting the Data by Area"
   ]
  },
  {
   "cell_type": "code",
   "execution_count": 8,
   "metadata": {},
   "outputs": [],
   "source": [
    "# creating arrays for the areas that have more than 2 wards\n",
    "cc = [7,8]\n",
    "north = [2,3,4]\n",
    "ne = [5,10]\n",
    "south = [11,13,14]"
   ]
  },
  {
   "cell_type": "markdown",
   "metadata": {},
   "source": [
    "City Centre"
   ]
  },
  {
   "cell_type": "code",
   "execution_count": 9,
   "metadata": {},
   "outputs": [],
   "source": [
    "df_city_centre = df_total.loc[df_total['WARD'].isin(cc)]\n",
    "df_city_centre = df_city_centre.drop(columns = 'WARD')\n",
    "df_city_centre = df_city_centre.groupby('CENSUS_YEAR').sum()\n",
    "df_city_centre.head()"
   ]
  },
  {
   "cell_type": "markdown",
   "metadata": {},
   "source": [
    "East"
   ]
  },
  {
   "cell_type": "code",
   "execution_count": 14,
   "metadata": {},
   "outputs": [
    {
     "data": {
      "text/html": [
       "<div>\n",
       "<style scoped>\n",
       "    .dataframe tbody tr th:only-of-type {\n",
       "        vertical-align: middle;\n",
       "    }\n",
       "\n",
       "    .dataframe tbody tr th {\n",
       "        vertical-align: top;\n",
       "    }\n",
       "\n",
       "    .dataframe thead th {\n",
       "        text-align: right;\n",
       "    }\n",
       "</style>\n",
       "<table border=\"1\" class=\"dataframe\">\n",
       "  <thead>\n",
       "    <tr style=\"text-align: right;\">\n",
       "      <th></th>\n",
       "      <th>DWELLING_CNT</th>\n",
       "      <th>OCPD_DWELLING_CNT</th>\n",
       "      <th>VACANT_DWELLING_CNT</th>\n",
       "      <th>OCPD_OWNERSHIP_CNT</th>\n",
       "      <th>RENO_AND_CONST</th>\n",
       "    </tr>\n",
       "    <tr>\n",
       "      <th>CENSUS_YEAR</th>\n",
       "      <th></th>\n",
       "      <th></th>\n",
       "      <th></th>\n",
       "      <th></th>\n",
       "      <th></th>\n",
       "    </tr>\n",
       "  </thead>\n",
       "  <tbody>\n",
       "    <tr>\n",
       "      <th>2019</th>\n",
       "      <td>41102</td>\n",
       "      <td>38157</td>\n",
       "      <td>1964</td>\n",
       "      <td>19789</td>\n",
       "      <td>620</td>\n",
       "    </tr>\n",
       "  </tbody>\n",
       "</table>\n",
       "</div>"
      ],
      "text/plain": [
       "             DWELLING_CNT  OCPD_DWELLING_CNT  VACANT_DWELLING_CNT  \\\n",
       "CENSUS_YEAR                                                         \n",
       "2019                41102              38157                 1964   \n",
       "\n",
       "             OCPD_OWNERSHIP_CNT  RENO_AND_CONST  \n",
       "CENSUS_YEAR                                      \n",
       "2019                      19789             620  "
      ]
     },
     "execution_count": 14,
     "metadata": {},
     "output_type": "execute_result"
    }
   ],
   "source": [
    "df_east = df_total[df_total['WARD'] == 9]\n",
    "df_east = df_east.drop(columns = 'WARD')\n",
    "df_east = df_east.groupby('CENSUS_YEAR').sum()\n",
    "df_east.head()"
   ]
  },
  {
   "cell_type": "markdown",
   "metadata": {},
   "source": [
    "West"
   ]
  },
  {
   "cell_type": "code",
   "execution_count": 15,
   "metadata": {},
   "outputs": [
    {
     "data": {
      "text/html": [
       "<div>\n",
       "<style scoped>\n",
       "    .dataframe tbody tr th:only-of-type {\n",
       "        vertical-align: middle;\n",
       "    }\n",
       "\n",
       "    .dataframe tbody tr th {\n",
       "        vertical-align: top;\n",
       "    }\n",
       "\n",
       "    .dataframe thead th {\n",
       "        text-align: right;\n",
       "    }\n",
       "</style>\n",
       "<table border=\"1\" class=\"dataframe\">\n",
       "  <thead>\n",
       "    <tr style=\"text-align: right;\">\n",
       "      <th></th>\n",
       "      <th>DWELLING_CNT</th>\n",
       "      <th>OCPD_DWELLING_CNT</th>\n",
       "      <th>VACANT_DWELLING_CNT</th>\n",
       "      <th>OCPD_OWNERSHIP_CNT</th>\n",
       "      <th>RENO_AND_CONST</th>\n",
       "    </tr>\n",
       "    <tr>\n",
       "      <th>CENSUS_YEAR</th>\n",
       "      <th></th>\n",
       "      <th></th>\n",
       "      <th></th>\n",
       "      <th></th>\n",
       "      <th></th>\n",
       "    </tr>\n",
       "  </thead>\n",
       "  <tbody>\n",
       "    <tr>\n",
       "      <th>2019</th>\n",
       "      <td>35013</td>\n",
       "      <td>33452</td>\n",
       "      <td>977</td>\n",
       "      <td>26489</td>\n",
       "      <td>518</td>\n",
       "    </tr>\n",
       "  </tbody>\n",
       "</table>\n",
       "</div>"
      ],
      "text/plain": [
       "             DWELLING_CNT  OCPD_DWELLING_CNT  VACANT_DWELLING_CNT  \\\n",
       "CENSUS_YEAR                                                         \n",
       "2019                35013              33452                  977   \n",
       "\n",
       "             OCPD_OWNERSHIP_CNT  RENO_AND_CONST  \n",
       "CENSUS_YEAR                                      \n",
       "2019                      26489             518  "
      ]
     },
     "execution_count": 15,
     "metadata": {},
     "output_type": "execute_result"
    }
   ],
   "source": [
    "df_west = df_total[df_total['WARD'] == 6]\n",
    "df_west = df_west.drop(columns = 'WARD')\n",
    "df_west = df_west.groupby('CENSUS_YEAR').sum()\n",
    "df_west.head()"
   ]
  },
  {
   "cell_type": "markdown",
   "metadata": {},
   "source": [
    "North"
   ]
  },
  {
   "cell_type": "code",
   "execution_count": 16,
   "metadata": {},
   "outputs": [
    {
     "data": {
      "text/html": [
       "<div>\n",
       "<style scoped>\n",
       "    .dataframe tbody tr th:only-of-type {\n",
       "        vertical-align: middle;\n",
       "    }\n",
       "\n",
       "    .dataframe tbody tr th {\n",
       "        vertical-align: top;\n",
       "    }\n",
       "\n",
       "    .dataframe thead th {\n",
       "        text-align: right;\n",
       "    }\n",
       "</style>\n",
       "<table border=\"1\" class=\"dataframe\">\n",
       "  <thead>\n",
       "    <tr style=\"text-align: right;\">\n",
       "      <th></th>\n",
       "      <th>DWELLING_CNT</th>\n",
       "      <th>OCPD_DWELLING_CNT</th>\n",
       "      <th>VACANT_DWELLING_CNT</th>\n",
       "      <th>OCPD_OWNERSHIP_CNT</th>\n",
       "      <th>RENO_AND_CONST</th>\n",
       "    </tr>\n",
       "    <tr>\n",
       "      <th>CENSUS_YEAR</th>\n",
       "      <th></th>\n",
       "      <th></th>\n",
       "      <th></th>\n",
       "      <th></th>\n",
       "      <th></th>\n",
       "    </tr>\n",
       "  </thead>\n",
       "  <tbody>\n",
       "    <tr>\n",
       "      <th>2019</th>\n",
       "      <td>97082</td>\n",
       "      <td>92329</td>\n",
       "      <td>3045</td>\n",
       "      <td>68794</td>\n",
       "      <td>1397</td>\n",
       "    </tr>\n",
       "  </tbody>\n",
       "</table>\n",
       "</div>"
      ],
      "text/plain": [
       "             DWELLING_CNT  OCPD_DWELLING_CNT  VACANT_DWELLING_CNT  \\\n",
       "CENSUS_YEAR                                                         \n",
       "2019                97082              92329                 3045   \n",
       "\n",
       "             OCPD_OWNERSHIP_CNT  RENO_AND_CONST  \n",
       "CENSUS_YEAR                                      \n",
       "2019                      68794            1397  "
      ]
     },
     "execution_count": 16,
     "metadata": {},
     "output_type": "execute_result"
    }
   ],
   "source": [
    "df_north = df_total.loc[df_total['WARD'].isin(north)]\n",
    "df_north = df_north.drop(columns = 'WARD')\n",
    "df_north = df_north.groupby('CENSUS_YEAR').sum()\n",
    "df_north.head()"
   ]
  },
  {
   "cell_type": "markdown",
   "metadata": {},
   "source": [
    "North East"
   ]
  },
  {
   "cell_type": "code",
   "execution_count": 17,
   "metadata": {},
   "outputs": [
    {
     "data": {
      "text/html": [
       "<div>\n",
       "<style scoped>\n",
       "    .dataframe tbody tr th:only-of-type {\n",
       "        vertical-align: middle;\n",
       "    }\n",
       "\n",
       "    .dataframe tbody tr th {\n",
       "        vertical-align: top;\n",
       "    }\n",
       "\n",
       "    .dataframe thead th {\n",
       "        text-align: right;\n",
       "    }\n",
       "</style>\n",
       "<table border=\"1\" class=\"dataframe\">\n",
       "  <thead>\n",
       "    <tr style=\"text-align: right;\">\n",
       "      <th></th>\n",
       "      <th>DWELLING_CNT</th>\n",
       "      <th>OCPD_DWELLING_CNT</th>\n",
       "      <th>VACANT_DWELLING_CNT</th>\n",
       "      <th>OCPD_OWNERSHIP_CNT</th>\n",
       "      <th>RENO_AND_CONST</th>\n",
       "    </tr>\n",
       "    <tr>\n",
       "      <th>CENSUS_YEAR</th>\n",
       "      <th></th>\n",
       "      <th></th>\n",
       "      <th></th>\n",
       "      <th></th>\n",
       "      <th></th>\n",
       "    </tr>\n",
       "  </thead>\n",
       "  <tbody>\n",
       "    <tr>\n",
       "      <th>2019</th>\n",
       "      <td>62037</td>\n",
       "      <td>57289</td>\n",
       "      <td>2578</td>\n",
       "      <td>38498</td>\n",
       "      <td>1570</td>\n",
       "    </tr>\n",
       "  </tbody>\n",
       "</table>\n",
       "</div>"
      ],
      "text/plain": [
       "             DWELLING_CNT  OCPD_DWELLING_CNT  VACANT_DWELLING_CNT  \\\n",
       "CENSUS_YEAR                                                         \n",
       "2019                62037              57289                 2578   \n",
       "\n",
       "             OCPD_OWNERSHIP_CNT  RENO_AND_CONST  \n",
       "CENSUS_YEAR                                      \n",
       "2019                      38498            1570  "
      ]
     },
     "execution_count": 17,
     "metadata": {},
     "output_type": "execute_result"
    }
   ],
   "source": [
    "df_north_east = df_total.loc[df_total['WARD'].isin(ne)]\n",
    "df_north_east = df_north_east.drop(columns = 'WARD')\n",
    "df_north_east = df_north_east.groupby('CENSUS_YEAR').sum()\n",
    "df_north_east.head()"
   ]
  },
  {
   "cell_type": "markdown",
   "metadata": {},
   "source": [
    "Nort West"
   ]
  },
  {
   "cell_type": "code",
   "execution_count": 18,
   "metadata": {},
   "outputs": [
    {
     "data": {
      "text/html": [
       "<div>\n",
       "<style scoped>\n",
       "    .dataframe tbody tr th:only-of-type {\n",
       "        vertical-align: middle;\n",
       "    }\n",
       "\n",
       "    .dataframe tbody tr th {\n",
       "        vertical-align: top;\n",
       "    }\n",
       "\n",
       "    .dataframe thead th {\n",
       "        text-align: right;\n",
       "    }\n",
       "</style>\n",
       "<table border=\"1\" class=\"dataframe\">\n",
       "  <thead>\n",
       "    <tr style=\"text-align: right;\">\n",
       "      <th></th>\n",
       "      <th>DWELLING_CNT</th>\n",
       "      <th>OCPD_DWELLING_CNT</th>\n",
       "      <th>VACANT_DWELLING_CNT</th>\n",
       "      <th>OCPD_OWNERSHIP_CNT</th>\n",
       "      <th>RENO_AND_CONST</th>\n",
       "    </tr>\n",
       "    <tr>\n",
       "      <th>CENSUS_YEAR</th>\n",
       "      <th></th>\n",
       "      <th></th>\n",
       "      <th></th>\n",
       "      <th></th>\n",
       "      <th></th>\n",
       "    </tr>\n",
       "  </thead>\n",
       "  <tbody>\n",
       "    <tr>\n",
       "      <th>2019</th>\n",
       "      <td>34958</td>\n",
       "      <td>33672</td>\n",
       "      <td>883</td>\n",
       "      <td>25714</td>\n",
       "      <td>344</td>\n",
       "    </tr>\n",
       "  </tbody>\n",
       "</table>\n",
       "</div>"
      ],
      "text/plain": [
       "             DWELLING_CNT  OCPD_DWELLING_CNT  VACANT_DWELLING_CNT  \\\n",
       "CENSUS_YEAR                                                         \n",
       "2019                34958              33672                  883   \n",
       "\n",
       "             OCPD_OWNERSHIP_CNT  RENO_AND_CONST  \n",
       "CENSUS_YEAR                                      \n",
       "2019                      25714             344  "
      ]
     },
     "execution_count": 18,
     "metadata": {},
     "output_type": "execute_result"
    }
   ],
   "source": [
    "df_north_west = df_total[df_total['WARD'] == 1]\n",
    "df_north_west = df_north_west.drop(columns = 'WARD')\n",
    "df_north_west = df_north_west.groupby('CENSUS_YEAR').sum()\n",
    "df_north_west.head()"
   ]
  },
  {
   "cell_type": "markdown",
   "metadata": {},
   "source": [
    "South"
   ]
  },
  {
   "cell_type": "code",
   "execution_count": 19,
   "metadata": {},
   "outputs": [
    {
     "data": {
      "text/html": [
       "<div>\n",
       "<style scoped>\n",
       "    .dataframe tbody tr th:only-of-type {\n",
       "        vertical-align: middle;\n",
       "    }\n",
       "\n",
       "    .dataframe tbody tr th {\n",
       "        vertical-align: top;\n",
       "    }\n",
       "\n",
       "    .dataframe thead th {\n",
       "        text-align: right;\n",
       "    }\n",
       "</style>\n",
       "<table border=\"1\" class=\"dataframe\">\n",
       "  <thead>\n",
       "    <tr style=\"text-align: right;\">\n",
       "      <th></th>\n",
       "      <th>DWELLING_CNT</th>\n",
       "      <th>OCPD_DWELLING_CNT</th>\n",
       "      <th>VACANT_DWELLING_CNT</th>\n",
       "      <th>OCPD_OWNERSHIP_CNT</th>\n",
       "      <th>RENO_AND_CONST</th>\n",
       "    </tr>\n",
       "    <tr>\n",
       "      <th>CENSUS_YEAR</th>\n",
       "      <th></th>\n",
       "      <th></th>\n",
       "      <th></th>\n",
       "      <th></th>\n",
       "      <th></th>\n",
       "    </tr>\n",
       "  </thead>\n",
       "  <tbody>\n",
       "    <tr>\n",
       "      <th>2019</th>\n",
       "      <td>117648</td>\n",
       "      <td>111898</td>\n",
       "      <td>3832</td>\n",
       "      <td>80253</td>\n",
       "      <td>1300</td>\n",
       "    </tr>\n",
       "  </tbody>\n",
       "</table>\n",
       "</div>"
      ],
      "text/plain": [
       "             DWELLING_CNT  OCPD_DWELLING_CNT  VACANT_DWELLING_CNT  \\\n",
       "CENSUS_YEAR                                                         \n",
       "2019               117648             111898                 3832   \n",
       "\n",
       "             OCPD_OWNERSHIP_CNT  RENO_AND_CONST  \n",
       "CENSUS_YEAR                                      \n",
       "2019                      80253            1300  "
      ]
     },
     "execution_count": 19,
     "metadata": {},
     "output_type": "execute_result"
    }
   ],
   "source": [
    "df_south = df_total.loc[df_total['WARD'].isin(south)]\n",
    "df_south = df_south.drop(columns = 'WARD')\n",
    "df_south = df_south.groupby('CENSUS_YEAR').sum()\n",
    "df_south.head()"
   ]
  },
  {
   "cell_type": "markdown",
   "metadata": {},
   "source": [
    "South East"
   ]
  },
  {
   "cell_type": "code",
   "execution_count": 20,
   "metadata": {},
   "outputs": [
    {
     "data": {
      "text/html": [
       "<div>\n",
       "<style scoped>\n",
       "    .dataframe tbody tr th:only-of-type {\n",
       "        vertical-align: middle;\n",
       "    }\n",
       "\n",
       "    .dataframe tbody tr th {\n",
       "        vertical-align: top;\n",
       "    }\n",
       "\n",
       "    .dataframe thead th {\n",
       "        text-align: right;\n",
       "    }\n",
       "</style>\n",
       "<table border=\"1\" class=\"dataframe\">\n",
       "  <thead>\n",
       "    <tr style=\"text-align: right;\">\n",
       "      <th></th>\n",
       "      <th>DWELLING_CNT</th>\n",
       "      <th>OCPD_DWELLING_CNT</th>\n",
       "      <th>VACANT_DWELLING_CNT</th>\n",
       "      <th>OCPD_OWNERSHIP_CNT</th>\n",
       "      <th>RENO_AND_CONST</th>\n",
       "    </tr>\n",
       "    <tr>\n",
       "      <th>CENSUS_YEAR</th>\n",
       "      <th></th>\n",
       "      <th></th>\n",
       "      <th></th>\n",
       "      <th></th>\n",
       "      <th></th>\n",
       "    </tr>\n",
       "  </thead>\n",
       "  <tbody>\n",
       "    <tr>\n",
       "      <th>2019</th>\n",
       "      <td>40893</td>\n",
       "      <td>38847</td>\n",
       "      <td>846</td>\n",
       "      <td>31469</td>\n",
       "      <td>1078</td>\n",
       "    </tr>\n",
       "  </tbody>\n",
       "</table>\n",
       "</div>"
      ],
      "text/plain": [
       "             DWELLING_CNT  OCPD_DWELLING_CNT  VACANT_DWELLING_CNT  \\\n",
       "CENSUS_YEAR                                                         \n",
       "2019                40893              38847                  846   \n",
       "\n",
       "             OCPD_OWNERSHIP_CNT  RENO_AND_CONST  \n",
       "CENSUS_YEAR                                      \n",
       "2019                      31469            1078  "
      ]
     },
     "execution_count": 20,
     "metadata": {},
     "output_type": "execute_result"
    }
   ],
   "source": [
    "df_south_east = df_total[df_total['WARD'] == 12]\n",
    "df_south_east = df_south_east.drop(columns = 'WARD')\n",
    "df_south_east = df_south_east.groupby('CENSUS_YEAR').sum()\n",
    "df_south_east.head()"
   ]
  },
  {
   "cell_type": "code",
   "execution_count": null,
   "metadata": {},
   "outputs": [],
   "source": []
  },
  {
   "cell_type": "code",
   "execution_count": null,
   "metadata": {},
   "outputs": [],
   "source": []
  }
 ],
 "metadata": {
  "kernelspec": {
   "display_name": "Python 3",
   "language": "python",
   "name": "python3"
  },
  "language_info": {
   "codemirror_mode": {
    "name": "ipython",
    "version": 3
   },
   "file_extension": ".py",
   "mimetype": "text/x-python",
   "name": "python",
   "nbconvert_exporter": "python",
   "pygments_lexer": "ipython3",
   "version": "3.6.9"
  },
  "toc": {
   "base_numbering": 1,
   "nav_menu": {},
   "number_sections": false,
   "sideBar": true,
   "skip_h1_title": true,
   "title_cell": "Table of Contents",
   "title_sidebar": "Contents",
   "toc_cell": false,
   "toc_position": {},
   "toc_section_display": true,
   "toc_window_display": true
  }
 },
 "nbformat": 4,
 "nbformat_minor": 4
}
